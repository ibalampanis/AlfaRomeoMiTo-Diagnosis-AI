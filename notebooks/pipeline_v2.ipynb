{
 "cells": [
  {
   "cell_type": "code",
   "execution_count": null,
   "metadata": {},
   "outputs": [],
   "source": [
    "import pandas as pd\n",
    "from sklearn.ensemble import IsolationForest\n",
    "from sklearn.preprocessing import StandardScaler\n",
    "from joblib import dump, load\n",
    "import matplotlib.pyplot as plt"
   ]
  },
  {
   "cell_type": "code",
   "execution_count": null,
   "metadata": {},
   "outputs": [],
   "source": [
    "normal_df = pd.read_csv('../data/alfa-romeo-normal-data.csv')\n",
    "normal_df.head()"
   ]
  },
  {
   "cell_type": "code",
   "execution_count": null,
   "metadata": {},
   "outputs": [],
   "source": [
    "# Standardizing the data\n",
    "scaler = StandardScaler()\n",
    "scaled_normal_df = scaler.fit_transform(normal_df)\n",
    "\n",
    "# Train Isolation Forest on normal data\n",
    "iso_forest = IsolationForest(n_estimators=100, contamination='auto', random_state=42)\n",
    "iso_forest.fit(scaled_normal_df)"
   ]
  },
  {
   "cell_type": "code",
   "execution_count": null,
   "metadata": {},
   "outputs": [],
   "source": [
    "# Save the scaler and model to disk\n",
    "dump(scaler, '../models/scaler.joblib')\n",
    "dump(iso_forest, '../models/iforest.joblib')"
   ]
  },
  {
   "cell_type": "code",
   "execution_count": null,
   "metadata": {},
   "outputs": [],
   "source": [
    "# Creating the DataFrame\n",
    "faulty_df = pd.read_csv('../data/alfa-romeo-faulty-data.csv')\n",
    "faulty_df.head()"
   ]
  },
  {
   "cell_type": "code",
   "execution_count": null,
   "metadata": {},
   "outputs": [],
   "source": [
    "# Load the scaler and model from disk\n",
    "scaler = load('../models/scaler.joblib')\n",
    "model = load('../models/iforest.joblib')"
   ]
  },
  {
   "cell_type": "code",
   "execution_count": null,
   "metadata": {},
   "outputs": [],
   "source": [
    "# Convert the 'Datetime' column to datetime\n",
    "faulty_df['Datetime'] = pd.to_datetime(faulty_df['Datetime'])\n",
    "\n",
    "# Store the 'Datetime' column in a separate variable before dropping it\n",
    "datetime_col = faulty_df['Datetime']\n",
    "faulty_df = faulty_df.drop(columns=['Datetime'])\n",
    "\n",
    "scaled_faulty_df = scaler.fit_transform(faulty_df)\n",
    "\n",
    "# Apply the model to the new data to predict anomalies\n",
    "anomaly_scores = iso_forest.decision_function(scaled_faulty_df)\n",
    "anomaly_labels = iso_forest.predict(scaled_faulty_df)\n",
    "\n",
    "# Add a column to the faulty data to show anomalies\n",
    "faulty_df['Anomaly_Score'] = anomaly_scores\n",
    "faulty_df['Anomaly_Score_IFR_Norm'] = faulty_df['Anomaly_Score'] * 1000\n",
    "faulty_df['Anomaly_Score_IPW_Norm'] = faulty_df['Anomaly_Score'] * 10\n",
    "faulty_df['Anomaly_Score_IT_Norm'] = faulty_df['Anomaly_Score'] * 100\n",
    "faulty_df['Anomaly_Label'] = anomaly_labels\n",
    "\n",
    "# Add the 'Datetime' column back to the dataframe\n",
    "faulty_df['Datetime'] = datetime_col"
   ]
  },
  {
   "cell_type": "code",
   "execution_count": null,
   "metadata": {},
   "outputs": [],
   "source": [
    "fig, axs = plt.subplots(3, 1, figsize=(10,18))\n",
    "\n",
    "# Plot for Anomaly Score and Injector Flow Rate\n",
    "axs[0].plot(faulty_df['Datetime'], faulty_df['Anomaly_Score_IFR_Norm'], label='Anomaly Score (normalized)')\n",
    "axs[0].plot(faulty_df['Datetime'], faulty_df['Injector_Flow_Rate'], label='Injector Flow Rate', linestyle='--')\n",
    "axs[0].set_xlabel('Datetime')\n",
    "axs[0].set_ylabel('Values')\n",
    "axs[0].set_title('Anomaly Score and Injector Flow Rate over Datetime')\n",
    "axs[0].legend()\n",
    "\n",
    "# Plot for Injector Pulse Width\n",
    "axs[1].plot(faulty_df['Datetime'], faulty_df['Anomaly_Score_IPW_Norm'], label='Anomaly Score (normalized)')\n",
    "axs[1].plot(faulty_df['Datetime'], faulty_df['Injector_Pulse_Width'], label='Injector Pulse Width', linestyle='--')\n",
    "axs[1].set_xlabel('Datetime')\n",
    "axs[1].set_ylabel('Values')\n",
    "axs[1].set_title('Anomaly Score and Injector Pulse Width over Datetime')\n",
    "axs[1].legend()\n",
    "\n",
    "# Plot for Injector Pulse Width\n",
    "axs[2].plot(faulty_df['Datetime'], faulty_df['Anomaly_Score_IT_Norm'], label='Anomaly Score (normalized)')\n",
    "axs[2].plot(faulty_df['Datetime'], faulty_df['Injector_Timing'], label='Injector Timing', linestyle='--')\n",
    "axs[2].set_xlabel('Datetime')\n",
    "axs[2].set_ylabel('Values')\n",
    "axs[2].set_title('Anomaly Score and Injector Timing over Datetime')\n",
    "axs[2].legend()\n",
    "\n",
    "plt.tight_layout()\n",
    "plt.show()"
   ]
  },
  {
   "cell_type": "code",
   "execution_count": null,
   "metadata": {},
   "outputs": [],
   "source": [
    "plt.figure(figsize=(10,6))\n",
    "plt.plot(faulty_df['Datetime'], faulty_df['Engine_RPM'], label='Engine RPM')\n",
    "plt.xlabel('Datetime')\n",
    "plt.ylabel('Values')\n",
    "plt.title('Engine RPM over Datetime')\n",
    "plt.legend()\n",
    "plt.tight_layout()\n",
    "plt.show()"
   ]
  }
 ],
 "metadata": {
  "kernelspec": {
   "display_name": "base",
   "language": "python",
   "name": "python3"
  },
  "language_info": {
   "codemirror_mode": {
    "name": "ipython",
    "version": 3
   },
   "file_extension": ".py",
   "mimetype": "text/x-python",
   "name": "python",
   "nbconvert_exporter": "python",
   "pygments_lexer": "ipython3",
   "version": "3.9.13"
  }
 },
 "nbformat": 4,
 "nbformat_minor": 2
}
